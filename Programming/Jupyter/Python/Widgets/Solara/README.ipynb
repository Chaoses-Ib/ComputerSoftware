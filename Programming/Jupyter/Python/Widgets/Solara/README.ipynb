{
 "cells": [
  {
   "cell_type": "code",
   "execution_count": null,
   "metadata": {},
   "outputs": [],
   "source": [
    "import solara\n",
    "\n",
    "# Declare reactive variables at the top level. Components using these variables\n",
    "# will be re-executed when their values change.\n",
    "sentence = solara.reactive(\"Solara makes our team more productive.\")\n",
    "word_limit = solara.reactive(10)\n",
    "\n",
    "\n",
    "@solara.component\n",
    "def Page():\n",
    "    # Calculate word_count within the component to ensure re-execution when reactive variables change.\n",
    "    word_count = len(sentence.value.split())\n",
    "\n",
    "    solara.SliderInt(\"Word limit\", value=word_limit, min=2, max=20)\n",
    "    solara.InputText(label=\"Your sentence\", value=sentence, continuous_update=True)\n",
    "\n",
    "    # Display messages based on the current word count and word limit.\n",
    "    if word_count >= int(word_limit.value):\n",
    "        solara.Error(f\"With {word_count} words, you passed the word limit of {word_limit.value}.\")\n",
    "    elif word_count >= int(0.8 * word_limit.value):\n",
    "        solara.Warning(f\"With {word_count} words, you are close to the word limit of {word_limit.value}.\")\n",
    "    else:\n",
    "        solara.Success(\"Great short writing!\")\n",
    "\n",
    "\n",
    "# The following line is required only when running the code in a Jupyter notebook:\n",
    "Page()"
   ]
  },
  {
   "cell_type": "code",
   "execution_count": null,
   "metadata": {},
   "outputs": [],
   "source": [
    "import solara\n",
    "\n",
    "@solara.component\n",
    "def Page():\n",
    "    with solara.Column():\n",
    "        solara.Title(\"I'm in the browser tab and the toolbar\")\n",
    "        with solara.Sidebar():\n",
    "            solara.Markdown(\"## I am in the sidebar\")\n",
    "            solara.SliderInt(label=\"Ideal for placing controls\")\n",
    "        solara.Info(\"I'm in the main content area, put your main content here\")\n",
    "        with solara.Card(\"Use solara.Columns([1, 2]) to create relatively sized columns\"):\n",
    "            with solara.Columns([1, 2]):\n",
    "                def on_file(*args):\n",
    "                    print(args)\n",
    "                solara.FileDrop(\"Drop File Here\", on_file=on_file)\n",
    "                solara.FileBrowser(r\"D:\\\\\")\n",
    "                solara.Info(\"I am like the first column\")\n",
    "\n",
    "        with solara.Card(\"Use solara.Column() to create a full width column\"):\n",
    "            with solara.Column():\n",
    "                solara.Success(\"I'm first in this full with column\")\n",
    "                solara.Warning(\"I'm second in this full with column\")\n",
    "                solara.Error(\"I'm third in this full with column\")\n",
    "\n",
    "        with solara.Card(\"Use solara.ColumnsResponsive(6, large=4) to response to screen size\"):\n",
    "            with solara.ColumnsResponsive(6, large=4):\n",
    "                for i in range(6):\n",
    "                    solara.Info(\"two per column on small screens, three per column on large screens\")\n",
    "Page()"
   ]
  }
 ],
 "metadata": {
  "kernelspec": {
   "display_name": "base",
   "language": "python",
   "name": "python3"
  },
  "language_info": {
   "codemirror_mode": {
    "name": "ipython",
    "version": 3
   },
   "file_extension": ".py",
   "mimetype": "text/x-python",
   "name": "python",
   "nbconvert_exporter": "python",
   "pygments_lexer": "ipython3",
   "version": "3.9.1"
  }
 },
 "nbformat": 4,
 "nbformat_minor": 2
}
